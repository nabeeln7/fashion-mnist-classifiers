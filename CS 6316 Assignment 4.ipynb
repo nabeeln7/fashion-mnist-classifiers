{
 "cells": [
  {
   "cell_type": "markdown",
   "metadata": {},
   "source": [
    "# Assignment 4: Benchmarking Fashion-MNIST with ANN"
   ]
  },
  {
   "cell_type": "markdown",
   "metadata": {},
   "source": [
    "### CS 6316 Machine Learning - Department of Computer Science - University of Virginia\n",
    "\"The original MNIST dataset contains a lot of handwritten digits. Members of the AI/ML/Data Science community love this dataset and use it as a benchmark to validate their algorithms. In fact, MNIST is often the first dataset researchers try. \"If it doesn't work on MNIST, it won't work at all\", they said. \"Well, if it does work on MNIST, it may still fail on others.\" - **Zalando Research, Github Repo.**\"\n",
    "\n",
    "Fashion-MNIST is a dataset of Zalando's article images—consisting of a training set of 60,000 examples and a test set of 10,000 examples. Each example is a 28x28 grayscale image, associated with a label from 10 classes. We intend Fashion-MNIST to serve as a direct drop-in replacement for the original MNIST dataset for benchmarking machine learning algorithms. It shares the same image size and structure of training and testing splits.\n",
    "\n",
    "![Here's an example how the data looks (each class takes three-rows):](https://github.com/zalandoresearch/fashion-mnist/raw/master/doc/img/fashion-mnist-sprite.png)\n",
    "\n",
    "In this assignment, you will attempt to benchmarking the Fashion-MNIST using ANNs. You must use it to train some neural networks on TensorFlow and predict the final output of 10 classes. For deliverables, you must write code in Python and submit this Jupyter Notebook file (.ipynb) to earn a total of 100 pts. You will gain points depending on how you perform in the following sections.\n"
   ]
  },
  {
   "cell_type": "markdown",
   "metadata": {},
   "source": [
    "---\n",
    "## 1. PRE-PROCESSING THE DATA (20 pts)\n",
    "\n",
    "You can load the Fashion MNIST directly from Tensorflow using the folliwng code:\n",
    "    tf.keras.datasets.fashion_mnist.load_data();\n",
    "\n",
    "Write some code to load the data file and take a quick look at the dataset, and output the following:\n",
    "- How big is your dataset? (regarding MB)\n",
    "- How many entries does it have?\n",
    "- How many features does it have?\n",
    "- What are some basic statistics you can learn right away about this dataset?\n",
    "\n",
    "**Large-scale Visualization:** Demonstrate that this dataset is indeed a complex and high dimensional worthy of an attempt on TensorFlow. Again, is there any non-linearly separation among the classes? Discover and plot out all features among the features."
   ]
  },
  {
   "cell_type": "code",
   "execution_count": 1,
   "metadata": {},
   "outputs": [
    {
     "name": "stderr",
     "output_type": "stream",
     "text": [
      "/anaconda3/lib/python3.6/site-packages/h5py/__init__.py:36: FutureWarning: Conversion of the second argument of issubdtype from `float` to `np.floating` is deprecated. In future, it will be treated as `np.float64 == np.dtype(float).type`.\n",
      "  from ._conv import register_converters as _register_converters\n"
     ]
    }
   ],
   "source": [
    "# You might want to use the following package\n",
    "import tensorflow as tf\n",
    "import matplotlib.pyplot as plt\n",
    "import pandas as pd\n",
    "import os\n",
    "import numpy as np\n",
    "from tensorflow import keras\n",
    "from tensorflow.python.keras.utils import to_categorical\n",
    "from sklearn.model_selection import train_test_split\n",
    "\n",
    "os.environ[\"TF_CPP_MIN_LOG_LEVEL\"]=\"3\"\n",
    "# Your code goes here for this section.\n",
    "# (X_train, y_train), (X_test, y_test) = tf.keras.datasets.fashion_mnist.load_data();\n",
    "\n",
    "def load_data(dir_path, filename):\n",
    "    csv_path = os.path.join(dir_path, filename)\n",
    "    return pd.read_csv(csv_path)\n",
    "\n",
    "data_train = load_data(\"\", \"fashion-mnist_train.csv\")\n",
    "data_test = load_data(\"\", \"fashion-mnist_test.csv\")\n",
    "\n",
    "img_rows, img_cols = 28, 28\n",
    "input_shape = (img_rows, img_cols, 1)\n",
    "\n",
    "X = np.array(data_train.iloc[:, 1:])\n",
    "y = np.array(data_train.iloc[:, 0])\n",
    "\n",
    "#Here we split validation data to optimize classifier during training\n",
    "X_train, X_val, y_train, y_val = train_test_split(X, y, test_size=0.2, random_state=13)\n",
    "\n",
    "#Test data\n",
    "X_test = np.array(data_test.iloc[:, 1:])\n",
    "y_test = np.array(data_test.iloc[:, 0])\n",
    "\n",
    "X_train = X_train.reshape(X_train.shape[0], img_rows, img_cols, 1)\n",
    "X_test = X_test.reshape(X_test.shape[0], img_rows, img_cols, 1)\n",
    "X_val = X_val.reshape(X_val.shape[0], img_rows, img_cols, 1)\n",
    "\n",
    "#Normalizing the data from 0-255 to 0-1\n",
    "X_train = X_train.astype('float32')\n",
    "X_test = X_test.astype('float32')\n",
    "X_val = X_val.astype('float32')\n",
    "X_train /= 255\n",
    "X_test /= 255\n",
    "X_val /= 255"
   ]
  },
  {
   "cell_type": "markdown",
   "metadata": {},
   "source": [
    "### Dataset Description"
   ]
  },
  {
   "cell_type": "code",
   "execution_count": 2,
   "metadata": {},
   "outputs": [
    {
     "name": "stdout",
     "output_type": "stream",
     "text": [
      "<class 'pandas.core.frame.DataFrame'>\n",
      "RangeIndex: 60000 entries, 0 to 59999\n",
      "Columns: 785 entries, label to pixel784\n",
      "dtypes: int64(785)\n",
      "memory usage: 359.3 MB\n"
     ]
    }
   ],
   "source": [
    "data_train.info()"
   ]
  },
  {
   "cell_type": "code",
   "execution_count": 3,
   "metadata": {},
   "outputs": [
    {
     "name": "stdout",
     "output_type": "stream",
     "text": [
      "<class 'pandas.core.frame.DataFrame'>\n",
      "RangeIndex: 10000 entries, 0 to 9999\n",
      "Columns: 785 entries, label to pixel784\n",
      "dtypes: int64(785)\n",
      "memory usage: 59.9 MB\n"
     ]
    }
   ],
   "source": [
    "data_test.info()"
   ]
  },
  {
   "cell_type": "code",
   "execution_count": 4,
   "metadata": {},
   "outputs": [
    {
     "data": {
      "text/html": [
       "<div>\n",
       "<style scoped>\n",
       "    .dataframe tbody tr th:only-of-type {\n",
       "        vertical-align: middle;\n",
       "    }\n",
       "\n",
       "    .dataframe tbody tr th {\n",
       "        vertical-align: top;\n",
       "    }\n",
       "\n",
       "    .dataframe thead th {\n",
       "        text-align: right;\n",
       "    }\n",
       "</style>\n",
       "<table border=\"1\" class=\"dataframe\">\n",
       "  <thead>\n",
       "    <tr style=\"text-align: right;\">\n",
       "      <th></th>\n",
       "      <th>label</th>\n",
       "      <th>pixel1</th>\n",
       "      <th>pixel2</th>\n",
       "      <th>pixel3</th>\n",
       "      <th>pixel4</th>\n",
       "      <th>pixel5</th>\n",
       "      <th>pixel6</th>\n",
       "      <th>pixel7</th>\n",
       "      <th>pixel8</th>\n",
       "      <th>pixel9</th>\n",
       "      <th>...</th>\n",
       "      <th>pixel775</th>\n",
       "      <th>pixel776</th>\n",
       "      <th>pixel777</th>\n",
       "      <th>pixel778</th>\n",
       "      <th>pixel779</th>\n",
       "      <th>pixel780</th>\n",
       "      <th>pixel781</th>\n",
       "      <th>pixel782</th>\n",
       "      <th>pixel783</th>\n",
       "      <th>pixel784</th>\n",
       "    </tr>\n",
       "  </thead>\n",
       "  <tbody>\n",
       "    <tr>\n",
       "      <th>0</th>\n",
       "      <td>2</td>\n",
       "      <td>0</td>\n",
       "      <td>0</td>\n",
       "      <td>0</td>\n",
       "      <td>0</td>\n",
       "      <td>0</td>\n",
       "      <td>0</td>\n",
       "      <td>0</td>\n",
       "      <td>0</td>\n",
       "      <td>0</td>\n",
       "      <td>...</td>\n",
       "      <td>0</td>\n",
       "      <td>0</td>\n",
       "      <td>0</td>\n",
       "      <td>0</td>\n",
       "      <td>0</td>\n",
       "      <td>0</td>\n",
       "      <td>0</td>\n",
       "      <td>0</td>\n",
       "      <td>0</td>\n",
       "      <td>0</td>\n",
       "    </tr>\n",
       "    <tr>\n",
       "      <th>1</th>\n",
       "      <td>9</td>\n",
       "      <td>0</td>\n",
       "      <td>0</td>\n",
       "      <td>0</td>\n",
       "      <td>0</td>\n",
       "      <td>0</td>\n",
       "      <td>0</td>\n",
       "      <td>0</td>\n",
       "      <td>0</td>\n",
       "      <td>0</td>\n",
       "      <td>...</td>\n",
       "      <td>0</td>\n",
       "      <td>0</td>\n",
       "      <td>0</td>\n",
       "      <td>0</td>\n",
       "      <td>0</td>\n",
       "      <td>0</td>\n",
       "      <td>0</td>\n",
       "      <td>0</td>\n",
       "      <td>0</td>\n",
       "      <td>0</td>\n",
       "    </tr>\n",
       "    <tr>\n",
       "      <th>2</th>\n",
       "      <td>6</td>\n",
       "      <td>0</td>\n",
       "      <td>0</td>\n",
       "      <td>0</td>\n",
       "      <td>0</td>\n",
       "      <td>0</td>\n",
       "      <td>0</td>\n",
       "      <td>0</td>\n",
       "      <td>5</td>\n",
       "      <td>0</td>\n",
       "      <td>...</td>\n",
       "      <td>0</td>\n",
       "      <td>0</td>\n",
       "      <td>0</td>\n",
       "      <td>30</td>\n",
       "      <td>43</td>\n",
       "      <td>0</td>\n",
       "      <td>0</td>\n",
       "      <td>0</td>\n",
       "      <td>0</td>\n",
       "      <td>0</td>\n",
       "    </tr>\n",
       "    <tr>\n",
       "      <th>3</th>\n",
       "      <td>0</td>\n",
       "      <td>0</td>\n",
       "      <td>0</td>\n",
       "      <td>0</td>\n",
       "      <td>1</td>\n",
       "      <td>2</td>\n",
       "      <td>0</td>\n",
       "      <td>0</td>\n",
       "      <td>0</td>\n",
       "      <td>0</td>\n",
       "      <td>...</td>\n",
       "      <td>3</td>\n",
       "      <td>0</td>\n",
       "      <td>0</td>\n",
       "      <td>0</td>\n",
       "      <td>0</td>\n",
       "      <td>1</td>\n",
       "      <td>0</td>\n",
       "      <td>0</td>\n",
       "      <td>0</td>\n",
       "      <td>0</td>\n",
       "    </tr>\n",
       "    <tr>\n",
       "      <th>4</th>\n",
       "      <td>3</td>\n",
       "      <td>0</td>\n",
       "      <td>0</td>\n",
       "      <td>0</td>\n",
       "      <td>0</td>\n",
       "      <td>0</td>\n",
       "      <td>0</td>\n",
       "      <td>0</td>\n",
       "      <td>0</td>\n",
       "      <td>0</td>\n",
       "      <td>...</td>\n",
       "      <td>0</td>\n",
       "      <td>0</td>\n",
       "      <td>0</td>\n",
       "      <td>0</td>\n",
       "      <td>0</td>\n",
       "      <td>0</td>\n",
       "      <td>0</td>\n",
       "      <td>0</td>\n",
       "      <td>0</td>\n",
       "      <td>0</td>\n",
       "    </tr>\n",
       "  </tbody>\n",
       "</table>\n",
       "<p>5 rows × 785 columns</p>\n",
       "</div>"
      ],
      "text/plain": [
       "   label  pixel1  pixel2  pixel3  pixel4  pixel5  pixel6  pixel7  pixel8  \\\n",
       "0      2       0       0       0       0       0       0       0       0   \n",
       "1      9       0       0       0       0       0       0       0       0   \n",
       "2      6       0       0       0       0       0       0       0       5   \n",
       "3      0       0       0       0       1       2       0       0       0   \n",
       "4      3       0       0       0       0       0       0       0       0   \n",
       "\n",
       "   pixel9    ...     pixel775  pixel776  pixel777  pixel778  pixel779  \\\n",
       "0       0    ...            0         0         0         0         0   \n",
       "1       0    ...            0         0         0         0         0   \n",
       "2       0    ...            0         0         0        30        43   \n",
       "3       0    ...            3         0         0         0         0   \n",
       "4       0    ...            0         0         0         0         0   \n",
       "\n",
       "   pixel780  pixel781  pixel782  pixel783  pixel784  \n",
       "0         0         0         0         0         0  \n",
       "1         0         0         0         0         0  \n",
       "2         0         0         0         0         0  \n",
       "3         1         0         0         0         0  \n",
       "4         0         0         0         0         0  \n",
       "\n",
       "[5 rows x 785 columns]"
      ]
     },
     "execution_count": 4,
     "metadata": {},
     "output_type": "execute_result"
    }
   ],
   "source": [
    "data_train.head()"
   ]
  },
  {
   "cell_type": "code",
   "execution_count": 5,
   "metadata": {},
   "outputs": [
    {
     "data": {
      "text/html": [
       "<div>\n",
       "<style scoped>\n",
       "    .dataframe tbody tr th:only-of-type {\n",
       "        vertical-align: middle;\n",
       "    }\n",
       "\n",
       "    .dataframe tbody tr th {\n",
       "        vertical-align: top;\n",
       "    }\n",
       "\n",
       "    .dataframe thead th {\n",
       "        text-align: right;\n",
       "    }\n",
       "</style>\n",
       "<table border=\"1\" class=\"dataframe\">\n",
       "  <thead>\n",
       "    <tr style=\"text-align: right;\">\n",
       "      <th></th>\n",
       "      <th>label</th>\n",
       "      <th>pixel1</th>\n",
       "      <th>pixel2</th>\n",
       "      <th>pixel3</th>\n",
       "      <th>pixel4</th>\n",
       "      <th>pixel5</th>\n",
       "      <th>pixel6</th>\n",
       "      <th>pixel7</th>\n",
       "      <th>pixel8</th>\n",
       "      <th>pixel9</th>\n",
       "      <th>...</th>\n",
       "      <th>pixel775</th>\n",
       "      <th>pixel776</th>\n",
       "      <th>pixel777</th>\n",
       "      <th>pixel778</th>\n",
       "      <th>pixel779</th>\n",
       "      <th>pixel780</th>\n",
       "      <th>pixel781</th>\n",
       "      <th>pixel782</th>\n",
       "      <th>pixel783</th>\n",
       "      <th>pixel784</th>\n",
       "    </tr>\n",
       "  </thead>\n",
       "  <tbody>\n",
       "    <tr>\n",
       "      <th>0</th>\n",
       "      <td>0</td>\n",
       "      <td>0</td>\n",
       "      <td>0</td>\n",
       "      <td>0</td>\n",
       "      <td>0</td>\n",
       "      <td>0</td>\n",
       "      <td>0</td>\n",
       "      <td>0</td>\n",
       "      <td>9</td>\n",
       "      <td>8</td>\n",
       "      <td>...</td>\n",
       "      <td>103</td>\n",
       "      <td>87</td>\n",
       "      <td>56</td>\n",
       "      <td>0</td>\n",
       "      <td>0</td>\n",
       "      <td>0</td>\n",
       "      <td>0</td>\n",
       "      <td>0</td>\n",
       "      <td>0</td>\n",
       "      <td>0</td>\n",
       "    </tr>\n",
       "    <tr>\n",
       "      <th>1</th>\n",
       "      <td>1</td>\n",
       "      <td>0</td>\n",
       "      <td>0</td>\n",
       "      <td>0</td>\n",
       "      <td>0</td>\n",
       "      <td>0</td>\n",
       "      <td>0</td>\n",
       "      <td>0</td>\n",
       "      <td>0</td>\n",
       "      <td>0</td>\n",
       "      <td>...</td>\n",
       "      <td>34</td>\n",
       "      <td>0</td>\n",
       "      <td>0</td>\n",
       "      <td>0</td>\n",
       "      <td>0</td>\n",
       "      <td>0</td>\n",
       "      <td>0</td>\n",
       "      <td>0</td>\n",
       "      <td>0</td>\n",
       "      <td>0</td>\n",
       "    </tr>\n",
       "    <tr>\n",
       "      <th>2</th>\n",
       "      <td>2</td>\n",
       "      <td>0</td>\n",
       "      <td>0</td>\n",
       "      <td>0</td>\n",
       "      <td>0</td>\n",
       "      <td>0</td>\n",
       "      <td>0</td>\n",
       "      <td>14</td>\n",
       "      <td>53</td>\n",
       "      <td>99</td>\n",
       "      <td>...</td>\n",
       "      <td>0</td>\n",
       "      <td>0</td>\n",
       "      <td>0</td>\n",
       "      <td>0</td>\n",
       "      <td>63</td>\n",
       "      <td>53</td>\n",
       "      <td>31</td>\n",
       "      <td>0</td>\n",
       "      <td>0</td>\n",
       "      <td>0</td>\n",
       "    </tr>\n",
       "    <tr>\n",
       "      <th>3</th>\n",
       "      <td>2</td>\n",
       "      <td>0</td>\n",
       "      <td>0</td>\n",
       "      <td>0</td>\n",
       "      <td>0</td>\n",
       "      <td>0</td>\n",
       "      <td>0</td>\n",
       "      <td>0</td>\n",
       "      <td>0</td>\n",
       "      <td>0</td>\n",
       "      <td>...</td>\n",
       "      <td>137</td>\n",
       "      <td>126</td>\n",
       "      <td>140</td>\n",
       "      <td>0</td>\n",
       "      <td>133</td>\n",
       "      <td>224</td>\n",
       "      <td>222</td>\n",
       "      <td>56</td>\n",
       "      <td>0</td>\n",
       "      <td>0</td>\n",
       "    </tr>\n",
       "    <tr>\n",
       "      <th>4</th>\n",
       "      <td>3</td>\n",
       "      <td>0</td>\n",
       "      <td>0</td>\n",
       "      <td>0</td>\n",
       "      <td>0</td>\n",
       "      <td>0</td>\n",
       "      <td>0</td>\n",
       "      <td>0</td>\n",
       "      <td>0</td>\n",
       "      <td>0</td>\n",
       "      <td>...</td>\n",
       "      <td>0</td>\n",
       "      <td>0</td>\n",
       "      <td>0</td>\n",
       "      <td>0</td>\n",
       "      <td>0</td>\n",
       "      <td>0</td>\n",
       "      <td>0</td>\n",
       "      <td>0</td>\n",
       "      <td>0</td>\n",
       "      <td>0</td>\n",
       "    </tr>\n",
       "  </tbody>\n",
       "</table>\n",
       "<p>5 rows × 785 columns</p>\n",
       "</div>"
      ],
      "text/plain": [
       "   label  pixel1  pixel2  pixel3  pixel4  pixel5  pixel6  pixel7  pixel8  \\\n",
       "0      0       0       0       0       0       0       0       0       9   \n",
       "1      1       0       0       0       0       0       0       0       0   \n",
       "2      2       0       0       0       0       0       0      14      53   \n",
       "3      2       0       0       0       0       0       0       0       0   \n",
       "4      3       0       0       0       0       0       0       0       0   \n",
       "\n",
       "   pixel9    ...     pixel775  pixel776  pixel777  pixel778  pixel779  \\\n",
       "0       8    ...          103        87        56         0         0   \n",
       "1       0    ...           34         0         0         0         0   \n",
       "2      99    ...            0         0         0         0        63   \n",
       "3       0    ...          137       126       140         0       133   \n",
       "4       0    ...            0         0         0         0         0   \n",
       "\n",
       "   pixel780  pixel781  pixel782  pixel783  pixel784  \n",
       "0         0         0         0         0         0  \n",
       "1         0         0         0         0         0  \n",
       "2        53        31         0         0         0  \n",
       "3       224       222        56         0         0  \n",
       "4         0         0         0         0         0  \n",
       "\n",
       "[5 rows x 785 columns]"
      ]
     },
     "execution_count": 5,
     "metadata": {},
     "output_type": "execute_result"
    }
   ],
   "source": [
    "data_test.head()"
   ]
  },
  {
   "cell_type": "markdown",
   "metadata": {},
   "source": [
    "- Size: The training and test data combined is 420 MB.  \n",
    "- Entries: There are 60000 entries in the training set and 10000 entries in the test set.  \n",
    "- Features: Every image of size 28x28. Hence, there are 784 features which with each pixel's grayscale value (0-255) being a feature."
   ]
  },
  {
   "cell_type": "markdown",
   "metadata": {},
   "source": [
    "### Classes"
   ]
  },
  {
   "cell_type": "markdown",
   "metadata": {},
   "source": [
    "There are a total of 10 classes. The following are the classes:  \n",
    "0: T-shirt/top  \n",
    "1: Trouser  \n",
    "2: Pullover  \n",
    "3: Dress  \n",
    "4: Coat  \n",
    "5: Sandal  \n",
    "6: Shirt  \n",
    "7: Sneaker  \n",
    "8: Bag  \n",
    "9: Ankle boot"
   ]
  },
  {
   "cell_type": "markdown",
   "metadata": {},
   "source": [
    "### Dataset Statistics"
   ]
  },
  {
   "cell_type": "code",
   "execution_count": 6,
   "metadata": {},
   "outputs": [
    {
     "data": {
      "text/plain": [
       "9    6000\n",
       "8    6000\n",
       "7    6000\n",
       "6    6000\n",
       "5    6000\n",
       "4    6000\n",
       "3    6000\n",
       "2    6000\n",
       "1    6000\n",
       "0    6000\n",
       "Name: label, dtype: int64"
      ]
     },
     "execution_count": 6,
     "metadata": {},
     "output_type": "execute_result"
    }
   ],
   "source": [
    "data_train[\"label\"].value_counts()"
   ]
  },
  {
   "cell_type": "code",
   "execution_count": 7,
   "metadata": {},
   "outputs": [
    {
     "data": {
      "text/plain": [
       "7    1000\n",
       "6    1000\n",
       "5    1000\n",
       "4    1000\n",
       "3    1000\n",
       "2    1000\n",
       "9    1000\n",
       "1    1000\n",
       "8    1000\n",
       "0    1000\n",
       "Name: label, dtype: int64"
      ]
     },
     "execution_count": 7,
     "metadata": {},
     "output_type": "execute_result"
    }
   ],
   "source": [
    "data_test[\"label\"].value_counts()"
   ]
  },
  {
   "cell_type": "markdown",
   "metadata": {},
   "source": [
    "The training set has 6000 examples per class and the test set has 1000 examples per class. Generating a correlation matrix does not make sense because, each feature is a pixel value and the linear relationship between a pixel value to the class label does not mean much."
   ]
  },
  {
   "cell_type": "markdown",
   "metadata": {},
   "source": [
    "### Correlation for the test data"
   ]
  },
  {
   "cell_type": "code",
   "execution_count": 20,
   "metadata": {},
   "outputs": [
    {
     "data": {
      "text/plain": [
       "label       1.000000\n",
       "pixel446    0.656260\n",
       "pixel418    0.654991\n",
       "pixel390    0.653649\n",
       "pixel474    0.650405\n",
       "pixel362    0.641375\n",
       "pixel445    0.641242\n",
       "pixel417    0.638432\n",
       "pixel473    0.637982\n",
       "pixel389    0.633631\n",
       "pixel502    0.627699\n",
       "pixel334    0.616447\n",
       "pixel361    0.614095\n",
       "pixel530    0.613793\n",
       "pixel475    0.609338\n",
       "pixel501    0.609072\n",
       "pixel558    0.602845\n",
       "pixel447    0.602184\n",
       "pixel503    0.598707\n",
       "pixel531    0.593730\n",
       "pixel529    0.593575\n",
       "pixel559    0.581342\n",
       "pixel419    0.580998\n",
       "pixel444    0.576054\n",
       "pixel416    0.572238\n",
       "pixel557    0.571772\n",
       "pixel472    0.570765\n",
       "pixel333    0.564418\n",
       "pixel388    0.563555\n",
       "pixel586    0.559652\n",
       "              ...   \n",
       "pixel180   -0.571493\n",
       "pixel181   -0.574904\n",
       "pixel127   -0.584105\n",
       "pixel154   -0.585681\n",
       "pixel72    -0.587819\n",
       "pixel99    -0.588628\n",
       "pixel71    -0.597346\n",
       "pixel153   -0.597365\n",
       "pixel152   -0.597782\n",
       "pixel98    -0.600645\n",
       "pixel126   -0.603635\n",
       "pixel70    -0.603859\n",
       "pixel151   -0.604982\n",
       "pixel44    -0.607504\n",
       "pixel69    -0.607552\n",
       "pixel125   -0.607614\n",
       "pixel42    -0.607849\n",
       "pixel43    -0.609860\n",
       "pixel97    -0.610554\n",
       "pixel124   -0.616898\n",
       "pixel68    -0.620203\n",
       "pixel46    -0.624628\n",
       "pixel96    -0.625618\n",
       "pixel45    -0.626608\n",
       "pixel41    -0.629778\n",
       "pixel123   -0.630949\n",
       "pixel67    -0.633418\n",
       "pixel95    -0.635407\n",
       "pixel39    -0.648552\n",
       "pixel40    -0.675610\n",
       "Name: label, Length: 785, dtype: float64"
      ]
     },
     "execution_count": 20,
     "metadata": {},
     "output_type": "execute_result"
    }
   ],
   "source": [
    "corr_matrix = data_test.corr()\n",
    "corr_matrix[\"label\"].sort_values(ascending=False)"
   ]
  },
  {
   "cell_type": "markdown",
   "metadata": {},
   "source": [
    "### Visualization"
   ]
  },
  {
   "cell_type": "markdown",
   "metadata": {},
   "source": [
    "This is how a training example looks like:"
   ]
  },
  {
   "cell_type": "code",
   "execution_count": 8,
   "metadata": {},
   "outputs": [
    {
     "data": {
      "image/png": "[encoded data removed]",
      "text/plain": [
       "<Figure size 432x288 with 1 Axes>"
      ]
     },
     "metadata": {},
     "output_type": "display_data"
    }
   ],
   "source": [
    "image = X_train[308,:].reshape((28,28))\n",
    "plt.imshow(image)\n",
    "plt.show()"
   ]
  },
  {
   "cell_type": "markdown",
   "metadata": {},
   "source": [
    "- - -\n",
    "## 2. CONSTRUCTION PHASE (25 pts)\n",
    "\n",
    "Define at least three networks with different structures: Ensure the input layer has the right number of inputs. The best structure often is found through a process of trial and error experimentation:\n",
    "- You may start with a fully connected network structure with two hidden layers.\n",
    "- You may try a few activation functions to see if they affect the performance.\n",
    "- You may use various optimizers to tweak the model parameters to minimize the cost function."
   ]
  },
  {
   "cell_type": "markdown",
   "metadata": {},
   "source": [
    "### Model 1: ANN"
   ]
  },
  {
   "cell_type": "code",
   "execution_count": 9,
   "metadata": {},
   "outputs": [
    {
     "name": "stdout",
     "output_type": "stream",
     "text": [
      "_________________________________________________________________\n",
      "Layer (type)                 Output Shape              Param #   \n",
      "=================================================================\n",
      "flatten (Flatten)            (None, 784)               0         \n",
      "_________________________________________________________________\n",
      "dense (Dense)                (None, 128)               100480    \n",
      "_________________________________________________________________\n",
      "dense_1 (Dense)              (None, 128)               16512     \n",
      "_________________________________________________________________\n",
      "dense_2 (Dense)              (None, 10)                1290      \n",
      "=================================================================\n",
      "Total params: 118,282\n",
      "Trainable params: 118,282\n",
      "Non-trainable params: 0\n",
      "_________________________________________________________________\n"
     ]
    }
   ],
   "source": [
    "from tensorflow.python.keras.layers import Dense, Conv2D, Flatten, MaxPooling2D, Dropout\n",
    "model_1 = keras.Sequential([\n",
    "    Flatten(input_shape=(28, 28, 1)),\n",
    "    Dense(128, activation=tf.nn.relu),\n",
    "    Dense(128, activation=tf.nn.relu),\n",
    "    Dense(10, activation=tf.nn.softmax)\n",
    "])\n",
    "\n",
    "model_1.compile(optimizer=keras.optimizers.Adam(), \n",
    "              loss='sparse_categorical_crossentropy',\n",
    "              metrics=['accuracy'])\n",
    "\n",
    "model_1.summary()"
   ]
  },
  {
   "cell_type": "markdown",
   "metadata": {},
   "source": [
    "### Model 2: ANN"
   ]
  },
  {
   "cell_type": "code",
   "execution_count": 10,
   "metadata": {},
   "outputs": [
    {
     "name": "stdout",
     "output_type": "stream",
     "text": [
      "_________________________________________________________________\n",
      "Layer (type)                 Output Shape              Param #   \n",
      "=================================================================\n",
      "flatten_1 (Flatten)          (None, 784)               0         \n",
      "_________________________________________________________________\n",
      "dense_3 (Dense)              (None, 512)               401920    \n",
      "_________________________________________________________________\n",
      "dense_4 (Dense)              (None, 512)               262656    \n",
      "_________________________________________________________________\n",
      "dense_5 (Dense)              (None, 512)               262656    \n",
      "_________________________________________________________________\n",
      "dense_6 (Dense)              (None, 512)               262656    \n",
      "_________________________________________________________________\n",
      "dense_7 (Dense)              (None, 10)                5130      \n",
      "=================================================================\n",
      "Total params: 1,195,018\n",
      "Trainable params: 1,195,018\n",
      "Non-trainable params: 0\n",
      "_________________________________________________________________\n"
     ]
    }
   ],
   "source": [
    "model_2 = keras.Sequential([\n",
    "    Flatten(input_shape=(28, 28, 1)),\n",
    "    Dense(512, activation=tf.nn.relu),\n",
    "    Dense(512, activation=tf.nn.relu),\n",
    "    Dense(512, activation=tf.nn.relu),\n",
    "    Dense(512, activation=tf.nn.relu),\n",
    "    Dense(10, activation=tf.nn.softmax)\n",
    "])\n",
    "\n",
    "model_2.compile(loss='sparse_categorical_crossentropy',\n",
    "             optimizer='adam',\n",
    "             metrics=['accuracy'])\n",
    "\n",
    "model_2.summary()"
   ]
  },
  {
   "cell_type": "markdown",
   "metadata": {},
   "source": [
    "### Model 3: CNN"
   ]
  },
  {
   "cell_type": "code",
   "execution_count": 11,
   "metadata": {},
   "outputs": [
    {
     "name": "stdout",
     "output_type": "stream",
     "text": [
      "_________________________________________________________________\n",
      "Layer (type)                 Output Shape              Param #   \n",
      "=================================================================\n",
      "conv2d (Conv2D)              (None, 28, 28, 64)        320       \n",
      "_________________________________________________________________\n",
      "max_pooling2d (MaxPooling2D) (None, 14, 14, 64)        0         \n",
      "_________________________________________________________________\n",
      "dropout (Dropout)            (None, 14, 14, 64)        0         \n",
      "_________________________________________________________________\n",
      "conv2d_1 (Conv2D)            (None, 14, 14, 32)        8224      \n",
      "_________________________________________________________________\n",
      "max_pooling2d_1 (MaxPooling2 (None, 7, 7, 32)          0         \n",
      "_________________________________________________________________\n",
      "dropout_1 (Dropout)          (None, 7, 7, 32)          0         \n",
      "_________________________________________________________________\n",
      "flatten_2 (Flatten)          (None, 1568)              0         \n",
      "_________________________________________________________________\n",
      "dense_8 (Dense)              (None, 256)               401664    \n",
      "_________________________________________________________________\n",
      "dropout_2 (Dropout)          (None, 256)               0         \n",
      "_________________________________________________________________\n",
      "dense_9 (Dense)              (None, 10)                2570      \n",
      "=================================================================\n",
      "Total params: 412,778\n",
      "Trainable params: 412,778\n",
      "Non-trainable params: 0\n",
      "_________________________________________________________________\n"
     ]
    }
   ],
   "source": [
    "from tensorflow.python.keras.layers import Dense, Conv2D, Flatten, MaxPooling2D, Dropout\n",
    "\n",
    "model_3 = keras.Sequential([\n",
    "    Conv2D(filters=64, kernel_size=2, padding='same', activation='relu', input_shape=(28,28,1)),\n",
    "    MaxPooling2D(pool_size=2),\n",
    "    Dropout(0.3),\n",
    "    Conv2D(filters=32, kernel_size=2, padding='same', activation='relu'),\n",
    "    MaxPooling2D(pool_size=2),\n",
    "    Dropout(0.3),\n",
    "    Flatten(),\n",
    "    Dense(256, activation='relu'),\n",
    "    Dropout(0.5),\n",
    "    Dense(10, activation='softmax')\n",
    "])\n",
    "\n",
    "model_3.compile(loss='sparse_categorical_crossentropy',\n",
    "             optimizer='adam',\n",
    "             metrics=['accuracy'])\n",
    "\n",
    "model_3.summary()"
   ]
  },
  {
   "cell_type": "markdown",
   "metadata": {},
   "source": [
    "- - -\n",
    "## 3. EXECUTION PHASE (30 pts)\n",
    "\n",
    "For each of the three models of your neural networks, open a TensorFlow session, define the number of epochs and size of the training batch (20 pts): For each model, you must compute the performance measures: Confusion Matrix and Class Accuracy.\n",
    "- Which one yields the best performance measure for your dataset?\n",
    "- You must be able to save the trained model and load it from disk to evaluate a test set\n"
   ]
  },
  {
   "cell_type": "markdown",
   "metadata": {},
   "source": [
    "### Epochs and Batch Size"
   ]
  },
  {
   "cell_type": "code",
   "execution_count": 12,
   "metadata": {},
   "outputs": [],
   "source": [
    "model_batch_size = 256\n",
    "model1_epochs = 15\n",
    "model2_epochs = 15\n",
    "model3_epochs = 15"
   ]
  },
  {
   "cell_type": "markdown",
   "metadata": {},
   "source": [
    "### Training"
   ]
  },
  {
   "cell_type": "code",
   "execution_count": 13,
   "metadata": {},
   "outputs": [
    {
     "name": "stdout",
     "output_type": "stream",
     "text": [
      "Train on 48000 samples, validate on 12000 samples\n",
      "Epoch 1/15\n",
      "48000/48000 [==============================] - 1s 25us/step - loss: 0.6379 - acc: 0.7797 - val_loss: 0.4683 - val_acc: 0.8356\n",
      "Epoch 2/15\n",
      "48000/48000 [==============================] - 1s 14us/step - loss: 0.4246 - acc: 0.8500 - val_loss: 0.4125 - val_acc: 0.8524\n",
      "Epoch 3/15\n",
      "48000/48000 [==============================] - 1s 14us/step - loss: 0.3808 - acc: 0.8654 - val_loss: 0.3806 - val_acc: 0.8652\n",
      "Epoch 4/15\n",
      "48000/48000 [==============================] - 1s 14us/step - loss: 0.3502 - acc: 0.8767 - val_loss: 0.3611 - val_acc: 0.8727\n",
      "Epoch 5/15\n",
      "48000/48000 [==============================] - 1s 13us/step - loss: 0.3290 - acc: 0.8819 - val_loss: 0.3524 - val_acc: 0.8704\n",
      "Epoch 6/15\n",
      "48000/48000 [==============================] - 1s 13us/step - loss: 0.3085 - acc: 0.8879 - val_loss: 0.3410 - val_acc: 0.8747\n",
      "Epoch 7/15\n",
      "48000/48000 [==============================] - 1s 14us/step - loss: 0.2970 - acc: 0.8924 - val_loss: 0.3302 - val_acc: 0.8802\n",
      "Epoch 8/15\n",
      "48000/48000 [==============================] - 1s 13us/step - loss: 0.2855 - acc: 0.8961 - val_loss: 0.3330 - val_acc: 0.8779\n",
      "Epoch 9/15\n",
      "48000/48000 [==============================] - 1s 13us/step - loss: 0.2762 - acc: 0.8988 - val_loss: 0.3492 - val_acc: 0.8690\n",
      "Epoch 10/15\n",
      "48000/48000 [==============================] - 1s 14us/step - loss: 0.2674 - acc: 0.9022 - val_loss: 0.3270 - val_acc: 0.8807\n",
      "Epoch 11/15\n",
      "48000/48000 [==============================] - 1s 14us/step - loss: 0.2553 - acc: 0.9061 - val_loss: 0.3365 - val_acc: 0.8766\n",
      "Epoch 12/15\n",
      "48000/48000 [==============================] - 1s 14us/step - loss: 0.2491 - acc: 0.9074 - val_loss: 0.3345 - val_acc: 0.8812\n",
      "Epoch 13/15\n",
      "48000/48000 [==============================] - 1s 16us/step - loss: 0.2408 - acc: 0.9113 - val_loss: 0.3293 - val_acc: 0.8838\n",
      "Epoch 14/15\n",
      "48000/48000 [==============================] - 1s 15us/step - loss: 0.2361 - acc: 0.9121 - val_loss: 0.3264 - val_acc: 0.8806\n",
      "Epoch 15/15\n",
      "48000/48000 [==============================] - 1s 15us/step - loss: 0.2298 - acc: 0.9148 - val_loss: 0.3429 - val_acc: 0.8690\n"
     ]
    }
   ],
   "source": [
    "m1_history = model_1.fit(X_train, y_train,\n",
    "                         batch_size=model_batch_size,\n",
    "                         epochs=model1_epochs,\n",
    "                         verbose=1,\n",
    "                         validation_data=(X_val, y_val))"
   ]
  },
  {
   "cell_type": "code",
   "execution_count": 14,
   "metadata": {},
   "outputs": [
    {
     "name": "stdout",
     "output_type": "stream",
     "text": [
      "Train on 48000 samples, validate on 12000 samples\n",
      "Epoch 1/15\n",
      "48000/48000 [==============================] - 4s 86us/step - loss: 0.5470 - acc: 0.8033 - val_loss: 0.4208 - val_acc: 0.8446\n",
      "Epoch 2/15\n",
      "48000/48000 [==============================] - 4s 88us/step - loss: 0.3683 - acc: 0.8642 - val_loss: 0.3769 - val_acc: 0.8652\n",
      "Epoch 3/15\n",
      "48000/48000 [==============================] - 4s 76us/step - loss: 0.3283 - acc: 0.8800 - val_loss: 0.3580 - val_acc: 0.8703\n",
      "Epoch 4/15\n",
      "48000/48000 [==============================] - 4s 79us/step - loss: 0.3046 - acc: 0.8886 - val_loss: 0.3321 - val_acc: 0.8805\n",
      "Epoch 5/15\n",
      "48000/48000 [==============================] - 4s 89us/step - loss: 0.2914 - acc: 0.8924 - val_loss: 0.3314 - val_acc: 0.8753\n",
      "Epoch 6/15\n",
      "48000/48000 [==============================] - 4s 82us/step - loss: 0.2728 - acc: 0.8977 - val_loss: 0.3115 - val_acc: 0.8856\n",
      "Epoch 7/15\n",
      "48000/48000 [==============================] - 4s 80us/step - loss: 0.2530 - acc: 0.9050 - val_loss: 0.3289 - val_acc: 0.8783\n",
      "Epoch 8/15\n",
      "48000/48000 [==============================] - 4s 84us/step - loss: 0.2439 - acc: 0.9085 - val_loss: 0.3160 - val_acc: 0.8837\n",
      "Epoch 9/15\n",
      "48000/48000 [==============================] - 4s 90us/step - loss: 0.2363 - acc: 0.9104 - val_loss: 0.3348 - val_acc: 0.8836\n",
      "Epoch 10/15\n",
      "48000/48000 [==============================] - 4s 91us/step - loss: 0.2220 - acc: 0.9153 - val_loss: 0.3114 - val_acc: 0.8923\n",
      "Epoch 11/15\n",
      "48000/48000 [==============================] - 4s 80us/step - loss: 0.2159 - acc: 0.9179 - val_loss: 0.2939 - val_acc: 0.8923\n",
      "Epoch 12/15\n",
      "48000/48000 [==============================] - 4s 78us/step - loss: 0.2071 - acc: 0.9214 - val_loss: 0.3207 - val_acc: 0.8863\n",
      "Epoch 13/15\n",
      "48000/48000 [==============================] - 4s 78us/step - loss: 0.2021 - acc: 0.9229 - val_loss: 0.3321 - val_acc: 0.8852\n",
      "Epoch 14/15\n",
      "48000/48000 [==============================] - 4s 78us/step - loss: 0.1964 - acc: 0.9255 - val_loss: 0.3089 - val_acc: 0.8917\n",
      "Epoch 15/15\n",
      "48000/48000 [==============================] - 4s 77us/step - loss: 0.1856 - acc: 0.9285 - val_loss: 0.3284 - val_acc: 0.8883\n"
     ]
    }
   ],
   "source": [
    "m2_history = model_2.fit(X_train, y_train,\n",
    "                         batch_size=model_batch_size,\n",
    "                         epochs=model2_epochs,\n",
    "                         verbose=1,\n",
    "                         validation_data=(X_val, y_val))"
   ]
  },
  {
   "cell_type": "code",
   "execution_count": 15,
   "metadata": {},
   "outputs": [
    {
     "name": "stdout",
     "output_type": "stream",
     "text": [
      "Train on 48000 samples, validate on 12000 samples\n",
      "Epoch 1/15\n",
      "48000/48000 [==============================] - 40s 828us/step - loss: 0.7804 - acc: 0.7115 - val_loss: 0.4539 - val_acc: 0.8352\n",
      "Epoch 2/15\n",
      "48000/48000 [==============================] - 41s 848us/step - loss: 0.4832 - acc: 0.8237 - val_loss: 0.3896 - val_acc: 0.8604\n",
      "Epoch 3/15\n",
      "48000/48000 [==============================] - 41s 861us/step - loss: 0.4251 - acc: 0.8465 - val_loss: 0.3490 - val_acc: 0.8739\n",
      "Epoch 4/15\n",
      "48000/48000 [==============================] - 41s 862us/step - loss: 0.3920 - acc: 0.8561 - val_loss: 0.3311 - val_acc: 0.8827\n",
      "Epoch 5/15\n",
      "48000/48000 [==============================] - 42s 868us/step - loss: 0.3701 - acc: 0.8672 - val_loss: 0.3095 - val_acc: 0.8893\n",
      "Epoch 6/15\n",
      "48000/48000 [==============================] - 42s 874us/step - loss: 0.3539 - acc: 0.8709 - val_loss: 0.3062 - val_acc: 0.8906\n",
      "Epoch 7/15\n",
      "48000/48000 [==============================] - 39s 815us/step - loss: 0.3370 - acc: 0.8774 - val_loss: 0.2920 - val_acc: 0.8943\n",
      "Epoch 8/15\n",
      "48000/48000 [==============================] - 42s 883us/step - loss: 0.3273 - acc: 0.8799 - val_loss: 0.2801 - val_acc: 0.8991\n",
      "Epoch 9/15\n",
      "48000/48000 [==============================] - 42s 881us/step - loss: 0.3165 - acc: 0.8841 - val_loss: 0.2781 - val_acc: 0.9016\n",
      "Epoch 10/15\n",
      "48000/48000 [==============================] - 39s 814us/step - loss: 0.3078 - acc: 0.8872 - val_loss: 0.2722 - val_acc: 0.9025\n",
      "Epoch 11/15\n",
      "48000/48000 [==============================] - 39s 815us/step - loss: 0.2984 - acc: 0.8907 - val_loss: 0.2656 - val_acc: 0.9038\n",
      "Epoch 12/15\n",
      "48000/48000 [==============================] - 39s 815us/step - loss: 0.2939 - acc: 0.8928 - val_loss: 0.2561 - val_acc: 0.9070\n",
      "Epoch 13/15\n",
      "48000/48000 [==============================] - 39s 812us/step - loss: 0.2868 - acc: 0.8942 - val_loss: 0.2586 - val_acc: 0.9038\n",
      "Epoch 14/15\n",
      "48000/48000 [==============================] - 39s 820us/step - loss: 0.2783 - acc: 0.8965 - val_loss: 0.2506 - val_acc: 0.9075\n",
      "Epoch 15/15\n",
      "48000/48000 [==============================] - 40s 825us/step - loss: 0.2758 - acc: 0.8981 - val_loss: 0.2473 - val_acc: 0.9102\n"
     ]
    }
   ],
   "source": [
    "m3_history = model_3.fit(X_train, y_train,\n",
    "                         batch_size=model_batch_size,\n",
    "                         epochs=model3_epochs,\n",
    "                         verbose=1,\n",
    "                         validation_data=(X_val, y_val))"
   ]
  },
  {
   "cell_type": "markdown",
   "metadata": {},
   "source": [
    "### Model Performance"
   ]
  },
  {
   "cell_type": "code",
   "execution_count": 16,
   "metadata": {},
   "outputs": [
    {
     "name": "stdout",
     "output_type": "stream",
     "text": [
      "10000/10000 [==============================] - 0s 31us/step\n",
      "10000/10000 [==============================] - 1s 56us/step\n",
      "10000/10000 [==============================] - 1s 140us/step\n"
     ]
    }
   ],
   "source": [
    "from sklearn.metrics import confusion_matrix\n",
    "import itertools\n",
    "def plot_confusion_matrix(cm,class_,title='Confusion matrix',cmap=plt.cm.Blues):\n",
    "    \"\"\"\n",
    "    This function plots a confusion matrix\n",
    "    \"\"\"\n",
    "    plt.imshow(cm, interpolation='nearest', cmap=cmap)\n",
    "    plt.title(title)\n",
    "    tick_marks = np.arange(len(class_))\n",
    "    plt.xticks(tick_marks, class_, rotation=90)\n",
    "    plt.yticks(tick_marks, class_)\n",
    "\n",
    "    fmt = 'd'\n",
    "    thresh = cm.max() / 2.\n",
    "    for i, j in itertools.product(range(cm.shape[0]), range(cm.shape[1])):\n",
    "        plt.text(j, i, format(cm[i, j], fmt),\n",
    "                 horizontalalignment=\"center\",\n",
    "                 color=\"white\" if cm[i, j] > thresh else \"black\")\n",
    "\n",
    "    plt.ylabel('True labels')\n",
    "    plt.xlabel('Predicted labels')\n",
    "    plt.show()\n",
    "\n",
    "_, model_1_acc = model_1.evaluate(X_test, y_test)\n",
    "_, model_2_acc = model_2.evaluate(X_test, y_test)\n",
    "_, model_3_acc = model_3.evaluate(X_test, y_test)\n",
    "\n",
    "predictions_model_1 = model_1.predict_classes(X_test, verbose=0)\n",
    "predictions_model_2 = model_2.predict_classes(X_test, verbose=0)\n",
    "predictions_model_3 = model_3.predict_classes(X_test, verbose=0)\n",
    "\n",
    "classes_fashion = ['T-shirt/top','Trouser','Pullover','Dress','Coat',\n",
    "                       'Sandal','Shirt','Sneaker','Bag','Ankle boot']"
   ]
  },
  {
   "cell_type": "markdown",
   "metadata": {},
   "source": [
    "#### Model1"
   ]
  },
  {
   "cell_type": "code",
   "execution_count": 17,
   "metadata": {},
   "outputs": [
    {
     "name": "stdout",
     "output_type": "stream",
     "text": [
      "Model 1 accuracy: 87.92\n"
     ]
    },
    {
     "data": {
      "image/png": "[encoded data removed]",
      "text/plain": [
       "<Figure size 432x288 with 1 Axes>"
      ]
     },
     "metadata": {},
     "output_type": "display_data"
    }
   ],
   "source": [
    "print('Model 1 accuracy:', model_1_acc*100)\n",
    "plot_confusion_matrix(confusion_matrix(y_test, predictions_model_1), classes_fashion)"
   ]
  },
  {
   "cell_type": "markdown",
   "metadata": {},
   "source": [
    "#### Model 2"
   ]
  },
  {
   "cell_type": "code",
   "execution_count": 18,
   "metadata": {},
   "outputs": [
    {
     "name": "stdout",
     "output_type": "stream",
     "text": [
      "Model 2 accuracy: 89.42\n"
     ]
    },
    {
     "data": {
      "image/png": "[encoded data removed]",
      "text/plain": [
       "<Figure size 432x288 with 1 Axes>"
      ]
     },
     "metadata": {},
     "output_type": "display_data"
    }
   ],
   "source": [
    "print('Model 2 accuracy:', model_2_acc*100)\n",
    "plot_confusion_matrix(confusion_matrix(y_test, predictions_model_2), classes_fashion)"
   ]
  },
  {
   "cell_type": "markdown",
   "metadata": {},
   "source": [
    "#### Model 3"
   ]
  },
  {
   "cell_type": "code",
   "execution_count": 19,
   "metadata": {},
   "outputs": [
    {
     "name": "stdout",
     "output_type": "stream",
     "text": [
      "Model 3 accuracy: 91.24\n"
     ]
    },
    {
     "data": {
      "image/png": "[encoded data removed]",
      "text/plain": [
       "<Figure size 432x288 with 1 Axes>"
      ]
     },
     "metadata": {},
     "output_type": "display_data"
    }
   ],
   "source": [
    "print('Model 3 accuracy:', model_3_acc*100)\n",
    "plot_confusion_matrix(confusion_matrix(y_test, predictions_model_3), classes_fashion)"
   ]
  },
  {
   "cell_type": "markdown",
   "metadata": {},
   "source": [
    "- - -\n",
    "## 4. FINETUNING THE NETWORK (20 pts)\n",
    "\n",
    "You may be able to compare the performance of your method agaist other ML methods below:\n",
    "http://fashion-mnist.s3-website.eu-central-1.amazonaws.com\n",
    "\n",
    "To improve the performance of your ANN, you can use grid search with cross-validation to find the right set of hyperparameters, but that would take a lot of times (days, sometimes weeks). Therefore, you must make some decision of which reasonable values for each hyperparameter, so that you can restrict the search space. Here's a few decision about the network you have to made and justify:\n",
    "\n",
    "- The number of hidden layers. Why did you pick this many?\n",
    "- The number of neurons per hidden layers. Provide some justifiable reasons\n",
    "- Which activation functions need to be used? Why?\n",
    "\n"
   ]
  },
  {
   "cell_type": "markdown",
   "metadata": {},
   "source": [
    "### Number of hidden layers and neurons"
   ]
  },
  {
   "cell_type": "markdown",
   "metadata": {},
   "source": [
    "For Model 1 and Model 2, I tried out different combinations of hidden layers - 2, 3, and 4 with 128, 256, and 512 neurons. And found that 128 x 2 and 512 x 4 are the reasonable accuracy with not too high a training time.\n",
    "\n",
    "For Model 3, I tried out CNN with different variations of convolutional and pooling layers and finally picked one that was giving an accuracy of more than 90%."
   ]
  },
  {
   "cell_type": "markdown",
   "metadata": {},
   "source": [
    "### Activation Function"
   ]
  },
  {
   "cell_type": "markdown",
   "metadata": {},
   "source": [
    "I tried ReLu and ELU as the activation functions. There was better performance wiht ReLu. Also, the other activation functions like Sigmoid and tanh suffer from Vanishing Gradient problem. Hence, I decided to go with ReLu for the hidden layers and Softmax for the output layer."
   ]
  },
  {
   "cell_type": "markdown",
   "metadata": {},
   "source": [
    "- - -\n",
    "## 5. OUTLOOK (5 pts)\n",
    "\n",
    "Plan for the outlook of your system: This will lead to the direction of your future project:\n",
    "- Did your neural network outperform other \"traditional ML technique? Why/why not?\n",
    "- Does your model work well for the future? If not, which model should be further investigated?\n",
    "- Do you satisfy with your system? What do you think needed to improve?\n",
    "\n"
   ]
  },
  {
   "cell_type": "markdown",
   "metadata": {},
   "source": [
    "- The CNN model did outperform the SVC model which had the best performance in the charts. \n",
    "\n",
    "- The model works reasonably well with a 91.24% accuracy. However, some data augmentation in CNN for rotation, horizontal flip and fill mode will improve the accuracy better.\n",
    "\n",
    "- Overall, I'm happy that the system performs better than other supervised algorithms. But, I believe that if the number of epochs are increased, this CNN model itself can get increased performance."
   ]
  },
  {
   "cell_type": "markdown",
   "metadata": {},
   "source": [
    "- - - \n",
    "### NEED HELP?"
   ]
  },
  {
   "cell_type": "markdown",
   "metadata": {},
   "source": [
    "In case you get stuck in any step in the process, you may find some useful information from:\n",
    "\n",
    " * Consult my lectures and/or the textbook\n",
    " * Talk to the TA, they are available and there to help you during [office hour](https://docs.google.com/document/d/15qB84xjaS-uRJmfKmmQuCz38bLMFaoqdbuRLoZEdOYI/edit#heading=h.72k1pvft525n)\n",
    " * Come talk to me or email me <nn4pj@virginia.edu> with subject starting \"CS6316 Assignment 3:...\".\n",
    " * More on the Fashion-MNIST to be found here: https://hanxiao.github.io/2018/09/28/Fashion-MNIST-Year-In-Review/\n",
    "\n",
    "Best of luck and have fun!"
   ]
  },
  {
   "cell_type": "code",
   "execution_count": null,
   "metadata": {},
   "outputs": [],
   "source": []
  }
 ],
 "metadata": {
  "kernelspec": {
   "display_name": "Python 3",
   "language": "python",
   "name": "python3"
  },
  "language_info": {
   "codemirror_mode": {
    "name": "ipython",
    "version": 3
   },
   "file_extension": ".py",
   "mimetype": "text/x-python",
   "name": "python",
   "nbconvert_exporter": "python",
   "pygments_lexer": "ipython3",
   "version": "3.6.5"
  }
 },
 "nbformat": 4,
 "nbformat_minor": 2
}
